{
 "cells": [
  {
   "cell_type": "markdown",
   "id": "1fad1ca0",
   "metadata": {
    "papermill": {
     "duration": 0.00441,
     "end_time": "2023-04-20T18:03:34.896136",
     "exception": false,
     "start_time": "2023-04-20T18:03:34.891726",
     "status": "completed"
    },
    "tags": []
   },
   "source": [
    "# Giới Thiệu\n",
    "\n",
    "Bạn đã thấy (và sử dụng) các kỹ thuật để trích xuất thông tin tổng quát từ một mô hình học máy. Nhưng nếu bạn muốn phân tích cách mô hình hoạt động cho một dự đoán cụ thể thì sao?\n",
    "\n",
    "**SHAP Values** (*SHapley Additive exPlanations*) giúp phân tách một dự đoán để cho thấy ảnh hưởng của từng đặc trưng. Khi nào bạn có thể sử dụng SHAP?\n",
    "\n",
    "- Một mô hình quyết định rằng ngân hàng không nên cho ai đó vay tiền, và ngân hàng có nghĩa vụ pháp lý phải giải thích lý do từ chối khoản vay.\n",
    "- Một nhà cung cấp dịch vụ y tế muốn xác định các yếu tố rủi ro gây bệnh của từng bệnh nhân để có thể đưa ra các biện pháp can thiệp sức khỏe phù hợp.\n",
    "\n",
    "Bạn sẽ sử dụng SHAP Values để giải thích các dự đoán cá nhân trong bài học này. Trong bài học tiếp theo, bạn sẽ thấy cách tổng hợp chúng thành những hiểu biết mạnh mẽ ở cấp độ mô hình.\n",
    "\n",
    "---\n",
    "\n",
    "# Cách Hoạt Động\n",
    "\n",
    "SHAP values diễn giải tác động của một giá trị đặc trưng nhất định bằng cách so sánh với dự đoán nếu đặc trưng đó có giá trị cơ sở (*baseline value*).\n",
    "\n",
    "Một ví dụ sẽ giúp làm rõ điều này. Chúng ta tiếp tục sử dụng bài toán dự đoán trong bóng đá từ các bài học về **[tầm quan trọng hoán vị](https://www.kaggle.com/dansbecker/permutation-importance)** và **[biểu đồ phụ thuộc một phần](https://www.kaggle.com/dansbecker/partial-plots)**.\n",
    "\n",
    "Trong các bài học trước, chúng ta đã dự đoán liệu một đội có cầu thủ giành danh hiệu *Cầu thủ xuất sắc nhất trận* (*Man of the Match*) hay không.\n",
    "\n",
    "Chúng ta có thể đặt câu hỏi:\n",
    "- Dự đoán bị ảnh hưởng bao nhiêu bởi việc đội bóng ghi 3 bàn thắng?\n",
    "\n",
    "Nhưng câu hỏi này sẽ dễ trả lời hơn dưới dạng số cụ thể nếu được diễn đạt lại như sau:\n",
    "- Dự đoán bị ảnh hưởng bao nhiêu bởi việc đội ghi 3 bàn thắng, **so với một số bàn thắng cơ sở?**\n",
    "\n",
    "Dĩ nhiên, mỗi đội có nhiều đặc trưng khác nhau. Vì vậy, nếu chúng ta trả lời câu hỏi cho `số bàn thắng`, chúng ta cũng có thể lặp lại quá trình này cho tất cả các đặc trưng khác.\n",
    "\n",
    "SHAP values thực hiện điều này theo cách đảm bảo một tính chất quan trọng. Cụ thể, chúng ta có thể phân tách một dự đoán bằng phương trình sau:\n",
    "\n",
    "```sum(SHAP values cho tất cả đặc trưng) = dự đoán cho đội - dự đoán với giá trị cơ sở```\n",
    "\n",
    "Tức là, tổng SHAP values của tất cả đặc trưng sẽ giải thích tại sao dự đoán của tôi khác với dự đoán cơ sở. Điều này cho phép chúng ta biểu diễn một dự đoán trong một biểu đồ như sau:\n",
    "\n",
    "![Imgur](https://storage.googleapis.com/kaggle-media/learn/images/JVD2U7k.png)\n",
    "\n",
    "*Nếu bạn muốn xem hình lớn hơn, [bấm vào đây](https://storage.googleapis.com/kaggle-media/learn/images/JVD2U7k.png).*\n"
   ]
  },
  {
   "cell_type": "markdown",
   "id": "8e3c9c05",
   "metadata": {
    "papermill": {
     "duration": 0.003254,
     "end_time": "2023-04-20T18:03:34.903310",
     "exception": false,
     "start_time": "2023-04-20T18:03:34.900056",
     "status": "completed"
    },
    "tags": []
   },
   "source": [
    "### Cách Diễn Giải SHAP Values\n",
    "\n",
    "Chúng ta dự đoán giá trị **0.7**, trong khi giá trị cơ sở (*base_value*) là **0.4979**. \n",
    "\n",
    "- Các giá trị đặc trưng làm **tăng** dự đoán được hiển thị bằng **màu hồng**, và kích thước trực quan thể hiện độ lớn của tác động.\n",
    "- Các giá trị đặc trưng làm **giảm** dự đoán được hiển thị bằng **màu xanh lam**.\n",
    "\n",
    "Tác động lớn nhất đến dự đoán đến từ đặc trưng `Goals Scored = 2`, làm tăng giá trị dự đoán. Trong khi đó, giá trị kiểm soát bóng (*ball possession*) có ảnh hưởng đáng kể trong việc **giảm** dự đoán.\n",
    "\n",
    "Nếu bạn lấy tổng độ dài của các thanh màu xanh trừ đi tổng độ dài của các thanh màu hồng, bạn sẽ có khoảng cách từ giá trị cơ sở đến đầu ra dự đoán.\n",
    "\n",
    "Có một số yếu tố phức tạp trong phương pháp này để đảm bảo rằng giá trị cơ sở cộng với tổng ảnh hưởng riêng lẻ của từng đặc trưng bằng đúng giá trị dự đoán. Điều này không đơn giản như nghe có vẻ. Chúng ta sẽ không đi sâu vào chi tiết đó ở đây, vì nó không cần thiết để áp dụng kỹ thuật này. Nếu bạn muốn tìm hiểu lý thuyết chi tiết hơn, có thể tham khảo [bài viết này](https://towardsdatascience.com/one-feature-attribution-method-to-supposedly-rule-them-all-shapley-values-f3e04534983d).\n",
    "\n",
    "---\n",
    "\n",
    "# Mã Code Để Tính SHAP Values  \n",
    "\n",
    "Chúng ta sẽ sử dụng thư viện tuyệt vời [SHAP](https://github.com/slundberg/shap) để tính toán SHAP values.\n",
    "\n",
    "Trong ví dụ này, chúng ta sẽ sử dụng lại mô hình đã thấy trước đó với dữ liệu bóng đá."
   ]
  },
  {
   "cell_type": "code",
   "execution_count": 2,
   "id": "701a62e1",
   "metadata": {
    "execution": {
     "iopub.execute_input": "2023-04-20T18:03:34.912930Z",
     "iopub.status.busy": "2023-04-20T18:03:34.912331Z",
     "iopub.status.idle": "2023-04-20T18:03:36.497358Z",
     "shell.execute_reply": "2023-04-20T18:03:36.496090Z"
    },
    "papermill": {
     "duration": 1.593581,
     "end_time": "2023-04-20T18:03:36.500393",
     "exception": false,
     "start_time": "2023-04-20T18:03:34.906812",
     "status": "completed"
    },
    "tags": []
   },
   "outputs": [],
   "source": [
    "import numpy as np\n",
    "import pandas as pd\n",
    "from sklearn.model_selection import train_test_split\n",
    "from sklearn.ensemble import RandomForestClassifier\n",
    "\n",
    "data = pd.read_csv('FIFA 2018 Statistics.csv')\n",
    "y = (data['Man of the Match'] == \"Yes\")  # Convert from string \"Yes\"/\"No\" to binary\n",
    "feature_names = [i for i in data.columns if data[i].dtype in [np.int64, np.int64]]\n",
    "X = data[feature_names]\n",
    "train_X, val_X, train_y, val_y = train_test_split(X, y, random_state=1)\n",
    "my_model = RandomForestClassifier(random_state=0).fit(train_X, train_y)"
   ]
  },
  {
   "cell_type": "markdown",
   "id": "80749e54",
   "metadata": {
    "papermill": {
     "duration": 0.003129,
     "end_time": "2023-04-20T18:03:36.507050",
     "exception": false,
     "start_time": "2023-04-20T18:03:36.503921",
     "status": "completed"
    },
    "tags": []
   },
   "source": [
    "Chúng ta sẽ xem xét SHAP values cho một hàng dữ liệu duy nhất trong tập dữ liệu (ở đây, chúng ta tùy ý chọn hàng số 5). \n",
    "\n",
    "Để có cái nhìn tổng quan, trước tiên chúng ta sẽ xem xét dự đoán thô của mô hình trước khi đi vào SHAP values."
   ]
  },
  {
   "cell_type": "code",
   "execution_count": 2,
   "id": "160b529d",
   "metadata": {
    "execution": {
     "iopub.execute_input": "2023-04-20T18:03:36.516295Z",
     "iopub.status.busy": "2023-04-20T18:03:36.515472Z",
     "iopub.status.idle": "2023-04-20T18:03:36.543669Z",
     "shell.execute_reply": "2023-04-20T18:03:36.542476Z"
    },
    "papermill": {
     "duration": 0.037152,
     "end_time": "2023-04-20T18:03:36.547851",
     "exception": false,
     "start_time": "2023-04-20T18:03:36.510699",
     "status": "completed"
    },
    "tags": []
   },
   "outputs": [
    {
     "name": "stderr",
     "output_type": "stream",
     "text": [
      "/opt/conda/lib/python3.7/site-packages/sklearn/base.py:451: UserWarning: X does not have valid feature names, but RandomForestClassifier was fitted with feature names\n",
      "  \"X does not have valid feature names, but\"\n"
     ]
    },
    {
     "data": {
      "text/plain": [
       "array([[0.29, 0.71]])"
      ]
     },
     "execution_count": 2,
     "metadata": {},
     "output_type": "execute_result"
    }
   ],
   "source": [
    "row_to_show = 5\n",
    "data_for_prediction = val_X.iloc[row_to_show]  # use 1 row of data here. Could use multiple rows if desired\n",
    "data_for_prediction_array = data_for_prediction.values.reshape(1, -1)\n",
    "\n",
    "\n",
    "my_model.predict_proba(data_for_prediction_array)"
   ]
  },
  {
   "cell_type": "markdown",
   "id": "6b80b3d2",
   "metadata": {
    "papermill": {
     "duration": 0.00322,
     "end_time": "2023-04-20T18:03:36.554896",
     "exception": false,
     "start_time": "2023-04-20T18:03:36.551676",
     "status": "completed"
    },
    "tags": []
   },
   "source": [
    "Đội bóng này có xác suất **70%** để có một cầu thủ giành danh hiệu \"Cầu thủ xuất sắc nhất trận\" (*Man of the Match*).\n",
    "\n",
    "Bây giờ, chúng ta sẽ chuyển sang mã code để tính SHAP values cho dự đoán này."
   ]
  },
  {
   "cell_type": "code",
   "execution_count": 3,
   "id": "4aa50d0a",
   "metadata": {
    "execution": {
     "iopub.execute_input": "2023-04-20T18:03:36.564152Z",
     "iopub.status.busy": "2023-04-20T18:03:36.563306Z",
     "iopub.status.idle": "2023-04-20T18:03:40.875307Z",
     "shell.execute_reply": "2023-04-20T18:03:40.874071Z"
    },
    "papermill": {
     "duration": 4.319791,
     "end_time": "2023-04-20T18:03:40.878244",
     "exception": false,
     "start_time": "2023-04-20T18:03:36.558453",
     "status": "completed"
    },
    "tags": []
   },
   "outputs": [],
   "source": [
    "import shap  # package used to calculate Shap values\n",
    "\n",
    "# Create object that can calculate shap values\n",
    "explainer = shap.TreeExplainer(my_model)\n",
    "\n",
    "# Calculate Shap values\n",
    "shap_values = explainer.shap_values(data_for_prediction)"
   ]
  },
  {
   "cell_type": "markdown",
   "id": "657751fb",
   "metadata": {
    "papermill": {
     "duration": 0.003547,
     "end_time": "2023-04-20T18:03:40.885685",
     "exception": false,
     "start_time": "2023-04-20T18:03:40.882138",
     "status": "completed"
    },
    "tags": []
   },
   "source": [
    "Đối tượng `shap_values` ở trên là một danh sách chứa hai mảng:\n",
    "\n",
    "- Mảng đầu tiên chứa SHAP values cho kết quả tiêu cực (đội **không** giành danh hiệu).\n",
    "- Mảng thứ hai chứa SHAP values cho kết quả tích cực (đội **giành** danh hiệu).\n",
    "\n",
    "Thông thường, chúng ta quan tâm đến dự đoán cho kết quả tích cực, nên chúng ta sẽ lấy SHAP values cho trường hợp đó (`shap_values[1]`).\n",
    "\n",
    "Việc xem xét các mảng dữ liệu thô khá rườm rà, nhưng thư viện SHAP cung cấp một cách trực quan để hiển thị kết quả."
   ]
  },
  {
   "cell_type": "code",
   "execution_count": 6,
   "id": "0dd3c437",
   "metadata": {
    "execution": {
     "iopub.execute_input": "2023-04-20T18:03:40.895535Z",
     "iopub.status.busy": "2023-04-20T18:03:40.894930Z",
     "iopub.status.idle": "2023-04-20T18:03:40.923918Z",
     "shell.execute_reply": "2023-04-20T18:03:40.922440Z"
    },
    "papermill": {
     "duration": 0.046399,
     "end_time": "2023-04-20T18:03:40.935886",
     "exception": false,
     "start_time": "2023-04-20T18:03:40.889487",
     "status": "completed"
    },
    "tags": []
   },
   "outputs": [
    {
     "ename": "NameError",
     "evalue": "name 'shap' is not defined",
     "output_type": "error",
     "traceback": [
      "\u001b[1;31m---------------------------------------------------------------------------\u001b[0m",
      "\u001b[1;31mNameError\u001b[0m                                 Traceback (most recent call last)",
      "Cell \u001b[1;32mIn[6], line 1\u001b[0m\n\u001b[1;32m----> 1\u001b[0m \u001b[43mshap\u001b[49m\u001b[38;5;241m.\u001b[39minitjs()\n\u001b[0;32m      2\u001b[0m shap\u001b[38;5;241m.\u001b[39mforce_plot(explainer\u001b[38;5;241m.\u001b[39mexpected_value[\u001b[38;5;241m1\u001b[39m], shap_values[\u001b[38;5;241m1\u001b[39m], data_for_prediction)\n",
      "\u001b[1;31mNameError\u001b[0m: name 'shap' is not defined"
     ]
    }
   ],
   "source": [
    "shap.initjs()\n",
    "shap.force_plot(explainer.expected_value[1], shap_values[1], data_for_prediction)"
   ]
  },
  {
   "cell_type": "markdown",
   "id": "42b4d131",
   "metadata": {
    "papermill": {
     "duration": 0.009275,
     "end_time": "2023-04-20T18:03:40.955748",
     "exception": false,
     "start_time": "2023-04-20T18:03:40.946473",
     "status": "completed"
    },
    "tags": []
   },
   "source": [
    "Nếu bạn quan sát kỹ đoạn mã nơi chúng ta tạo SHAP values, bạn sẽ thấy rằng chúng ta sử dụng `shap.TreeExplainer(my_model)`. Tuy nhiên, thư viện SHAP có các bộ giải thích (*explainers*) cho mọi loại mô hình:\n",
    "\n",
    "- `shap.DeepExplainer` hoạt động với các mô hình Học sâu (*Deep Learning*).\n",
    "- `shap.KernelExplainer` có thể áp dụng cho tất cả các mô hình, nhưng chậm hơn so với các Explainers khác và chỉ cung cấp kết quả gần đúng thay vì giá trị SHAP chính xác.\n",
    "\n",
    "Dưới đây là một ví dụ sử dụng `KernelExplainer` để tạo ra kết quả tương tự. Kết quả không hoàn toàn giống nhau vì `KernelExplainer` chỉ đưa ra một kết quả xấp xỉ. Tuy nhiên, thông tin rút ra từ kết quả vẫn tương tự nhau."
   ]
  },
  {
   "cell_type": "code",
   "execution_count": 5,
   "id": "60a55caa",
   "metadata": {
    "execution": {
     "iopub.execute_input": "2023-04-20T18:03:40.977133Z",
     "iopub.status.busy": "2023-04-20T18:03:40.976676Z",
     "iopub.status.idle": "2023-04-20T18:03:43.007686Z",
     "shell.execute_reply": "2023-04-20T18:03:43.006317Z"
    },
    "papermill": {
     "duration": 2.047523,
     "end_time": "2023-04-20T18:03:43.012995",
     "exception": false,
     "start_time": "2023-04-20T18:03:40.965472",
     "status": "completed"
    },
    "tags": []
   },
   "outputs": [
    {
     "name": "stderr",
     "output_type": "stream",
     "text": [
      "X does not have valid feature names, but RandomForestClassifier was fitted with feature names\n",
      "X does not have valid feature names, but RandomForestClassifier was fitted with feature names\n",
      "X does not have valid feature names, but RandomForestClassifier was fitted with feature names\n",
      "The default of 'normalize' will be set to False in version 1.2 and deprecated in version 1.4.\n",
      "If you wish to scale the data, use Pipeline with a StandardScaler in a preprocessing stage. To reproduce the previous behavior:\n",
      "\n",
      "from sklearn.pipeline import make_pipeline\n",
      "\n",
      "model = make_pipeline(StandardScaler(with_mean=False), LassoLarsIC())\n",
      "\n",
      "If you wish to pass a sample_weight parameter, you need to pass it as a fit parameter to each step of the pipeline as follows:\n",
      "\n",
      "kwargs = {s[0] + '__sample_weight': sample_weight for s in model.steps}\n",
      "model.fit(X, y, **kwargs)\n",
      "\n",
      "Set parameter alpha to: original_alpha * np.sqrt(n_samples). \n",
      "The default of 'normalize' will be set to False in version 1.2 and deprecated in version 1.4.\n",
      "If you wish to scale the data, use Pipeline with a StandardScaler in a preprocessing stage. To reproduce the previous behavior:\n",
      "\n",
      "from sklearn.pipeline import make_pipeline\n",
      "\n",
      "model = make_pipeline(StandardScaler(with_mean=False), LassoLarsIC())\n",
      "\n",
      "If you wish to pass a sample_weight parameter, you need to pass it as a fit parameter to each step of the pipeline as follows:\n",
      "\n",
      "kwargs = {s[0] + '__sample_weight': sample_weight for s in model.steps}\n",
      "model.fit(X, y, **kwargs)\n",
      "\n",
      "Set parameter alpha to: original_alpha * np.sqrt(n_samples). \n"
     ]
    },
    {
     "data": {
      "text/html": [
       "\n",
       "<div id='iIA13W237VKA6MDC2B61K'>\n",
       "<div style='color: #900; text-align: center;'>\n",
       "  <b>Visualization omitted, Javascript library not loaded!</b><br>\n",
       "  Have you run `initjs()` in this notebook? If this notebook was from another\n",
       "  user you must also trust this notebook (File -> Trust notebook). If you are viewing\n",
       "  this notebook on github the Javascript has been stripped for security. If you are using\n",
       "  JupyterLab this error is because a JupyterLab extension has not yet been written.\n",
       "</div></div>\n",
       " <script>\n",
       "   if (window.SHAP) SHAP.ReactDom.render(\n",
       "    SHAP.React.createElement(SHAP.AdditiveForceVisualizer, {\"outNames\": [\"f(x)\"], \"baseValue\": 0.4933333333333332, \"outValue\": 0.71, \"link\": \"identity\", \"featureNames\": [\"Goal Scored\", \"Ball Possession %\", \"Attempts\", \"On-Target\", \"Off-Target\", \"Blocked\", \"Corners\", \"Offsides\", \"Free Kicks\", \"Saves\", \"Pass Accuracy %\", \"Passes\", \"Distance Covered (Kms)\", \"Fouls Committed\", \"Yellow Card\", \"Yellow & Red\", \"Red\", \"Goals in PSO\"], \"features\": {\"0\": {\"effect\": 0.1045975736620205, \"value\": 2.0}, \"1\": {\"effect\": -0.0467030649062108, \"value\": 38.0}, \"2\": {\"effect\": 0.02762984172858851, \"value\": 13.0}, \"3\": {\"effect\": 0.029373241547263312, \"value\": 7.0}, \"4\": {\"effect\": 0.005280139158868838, \"value\": 4.0}, \"5\": {\"effect\": 0.010713513263256355, \"value\": 2.0}, \"6\": {\"effect\": 0.028780188958371616, \"value\": 6.0}, \"7\": {\"effect\": -0.006592080760909114, \"value\": 1.0}, \"8\": {\"effect\": 0.009152068062539043, \"value\": 18.0}, \"9\": {\"effect\": 0.006717249308677037, \"value\": 1.0}, \"10\": {\"effect\": -0.0031502682203266297, \"value\": 69.0}, \"11\": {\"effect\": 0.0045215983747029925, \"value\": 399.0}, \"12\": {\"effect\": -0.020822132421207923, \"value\": 148.0}, \"13\": {\"effect\": 0.04783831370416136, \"value\": 25.0}, \"14\": {\"effect\": 0.006093384318502829, \"value\": 1.0}, \"16\": {\"effect\": 0.0004323311301461241, \"value\": 0.0}, \"17\": {\"effect\": 0.012804769758222756, \"value\": 3.0}}, \"plot_cmap\": \"RdBu\", \"labelMargin\": 20}),\n",
       "    document.getElementById('iIA13W237VKA6MDC2B61K')\n",
       "  );\n",
       "</script>"
      ],
      "text/plain": [
       "<shap.plots._force.AdditiveForceVisualizer at 0x7c228c640d90>"
      ]
     },
     "execution_count": 5,
     "metadata": {},
     "output_type": "execute_result"
    }
   ],
   "source": [
    "# use Kernel SHAP to explain test set predictions\n",
    "k_explainer = shap.KernelExplainer(my_model.predict_proba, train_X)\n",
    "k_shap_values = k_explainer.shap_values(data_for_prediction)\n",
    "shap.force_plot(k_explainer.expected_value[1], k_shap_values[1], data_for_prediction)"
   ]
  },
  {
   "cell_type": "markdown",
   "id": "a6f7b586",
   "metadata": {
    "papermill": {
     "duration": 0.022616,
     "end_time": "2023-04-20T18:03:43.058418",
     "exception": false,
     "start_time": "2023-04-20T18:03:43.035802",
     "status": "completed"
    },
    "tags": []
   },
   "source": [
    "# Đến Lượt Bạn\n",
    "\n",
    "SHAP values thật tuyệt vời! Hãy tận hưởng việc áp dụng chúng, cùng với các công cụ khác mà bạn đã học, để **[giải quyết một bài toán khoa học dữ liệu hoàn chỉnh](https://www.kaggle.com/kernels/fork/1637226)**."
   ]
  },
  {
   "cell_type": "markdown",
   "id": "0b20ad8a",
   "metadata": {
    "papermill": {
     "duration": 0.022187,
     "end_time": "2023-04-20T18:03:43.103593",
     "exception": false,
     "start_time": "2023-04-20T18:03:43.081406",
     "status": "completed"
    },
    "tags": []
   },
   "source": [
    "---\n",
    "\n",
    "\n",
    "\n",
    "\n",
    "*Have questions or comments? Visit the [course discussion forum](https://www.kaggle.com/learn/machine-learning-explainability/discussion) to chat with other learners.*"
   ]
  }
 ],
 "metadata": {
  "kernelspec": {
   "display_name": "Python 3",
   "language": "python",
   "name": "python3"
  },
  "language_info": {
   "codemirror_mode": {
    "name": "ipython",
    "version": 3
   },
   "file_extension": ".py",
   "mimetype": "text/x-python",
   "name": "python",
   "nbconvert_exporter": "python",
   "pygments_lexer": "ipython3",
   "version": "3.13.2"
  },
  "papermill": {
   "default_parameters": {},
   "duration": 20.765662,
   "end_time": "2023-04-20T18:03:45.319584",
   "environment_variables": {},
   "exception": null,
   "input_path": "__notebook__.ipynb",
   "output_path": "__notebook__.ipynb",
   "parameters": {},
   "start_time": "2023-04-20T18:03:24.553922",
   "version": "2.4.0"
  }
 },
 "nbformat": 4,
 "nbformat_minor": 5
}
